{
 "cells": [
  {
   "cell_type": "code",
   "execution_count": 1,
   "id": "85865e5b",
   "metadata": {},
   "outputs": [],
   "source": [
    "# Import libraries\n",
    "from PIL import Image\n",
    "import pytesseract\n",
    "import sys\n",
    "from pdf2image import convert_from_path\n",
    "import os\n",
    "  \n"
   ]
  },
  {
   "cell_type": "code",
   "execution_count": 2,
   "id": "c9ee79b6",
   "metadata": {},
   "outputs": [],
   "source": [
    "# Path of the pdf\n",
    "PDF_file = '/Users/arome/Downloads/Coding test/2020 - Coding test/samples/2003.00744v1_image_pdf.pdf'"
   ]
  },
  {
   "cell_type": "code",
   "execution_count": 5,
   "id": "4657c498",
   "metadata": {},
   "outputs": [
    {
     "ename": "SyntaxError",
     "evalue": "(unicode error) 'unicodeescape' codec can't decode bytes in position 2-3: truncated \\UXXXXXXXX escape (Temp/ipykernel_11324/2915201278.py, line 14)",
     "output_type": "error",
     "traceback": [
      "\u001b[1;36m  File \u001b[1;32m\"C:\\Users\\arome\\AppData\\Local\\Temp/ipykernel_11324/2915201278.py\"\u001b[1;36m, line \u001b[1;32m14\u001b[0m\n\u001b[1;33m    strict=STRICT , poppler_path='C:\\Users\\Program Files\\poppler-0.68.0_x86\\bin')\u001b[0m\n\u001b[1;37m                                                                                ^\u001b[0m\n\u001b[1;31mSyntaxError\u001b[0m\u001b[1;31m:\u001b[0m (unicode error) 'unicodeescape' codec can't decode bytes in position 2-3: truncated \\UXXXXXXXX escape\n"
     ]
    }
   ],
   "source": [
    "'''\n",
    "Part #1 : Converting PDF to images\n",
    "'''\n",
    "  \n",
    "# Store all the pages of the PDF in a variable\n",
    "pages =pdf2image.convert_from_path(PDF_file, poppler_path='C:\\Users\\Program Files\\poppler-0.68.0_x86\\bin')\n",
    "  \n",
    "# Counter to store images of each page of PDF to image\n",
    "image_counter = 1\n",
    "  \n",
    "# Iterate through all the pages stored above\n",
    "for page in pages:\n",
    "  \n",
    "    # Declaring filename for each page of PDF as JPG\n",
    "    # For each page, filename will be:\n",
    "    # PDF page 1 -> page_1.jpg\n",
    "    # PDF page 2 -> page_2.jpg\n",
    "    # PDF page 3 -> page_3.jpg\n",
    "    # ....\n",
    "    # PDF page n -> page_n.jpg\n",
    "    filename = \"page_\"+str(image_counter)+\".jpg\"\n",
    "      \n",
    "    # Save the image of the page in system\n",
    "    page.save(filename, 'JPEG')\n",
    "  \n",
    "    # Increment the counter to update filename\n",
    "    image_counter = image_counter + 1"
   ]
  },
  {
   "cell_type": "code",
   "execution_count": 4,
   "id": "08a1c826",
   "metadata": {},
   "outputs": [
    {
     "ename": "IndentationError",
     "evalue": "unexpected indent (Temp/ipykernel_11324/1476556964.py, line 4)",
     "output_type": "error",
     "traceback": [
      "\u001b[1;36m  File \u001b[1;32m\"C:\\Users\\arome\\AppData\\Local\\Temp/ipykernel_11324/1476556964.py\"\u001b[1;36m, line \u001b[1;32m4\u001b[0m\n\u001b[1;33m    3\u001b[0m\n\u001b[1;37m    ^\u001b[0m\n\u001b[1;31mIndentationError\u001b[0m\u001b[1;31m:\u001b[0m unexpected indent\n"
     ]
    }
   ],
   "source": [
    "'''\n",
    "Part #2 - Recognizing text from the images using OCR\n",
    "'''\n",
    "    3\n",
    "# Variable to get count of total number of pages\n",
    "filelimit = image_counter-1\n",
    "  \n",
    "# Creating a text file to write the output\n",
    "outfile = \"out_text.txt\"\n",
    "  \n",
    "# Open the file in append mode so that \n",
    "# All contents of all images are added to the same file\n",
    "f = open(outfile, \"a\")\n",
    "  \n",
    "# Iterate from 1 to total number of pages\n",
    "for i in range(1, filelimit + 1):\n",
    "  \n",
    "    # Set filename to recognize text from\n",
    "    # Again, these files will be:\n",
    "    # page_1.jpg\n",
    "    # page_2.jpg\n",
    "    # ....\n",
    "    # page_n.jpg\n",
    "    filename = \"page_\"+str(i)+\".jpg\"\n",
    "          \n",
    "    # Recognize the text as string in image using pytesserct\n",
    "    text = str(((pytesseract.image_to_string(Image.open(filename)))))\n",
    "  \n",
    "    # The recognized text is stored in variable text\n",
    "    # Any string processing may be applied on text\n",
    "    # Here, basic formatting has been done:\n",
    "    # In many PDFs, at line ending, if a word can't\n",
    "    # be written fully, a 'hyphen' is added.\n",
    "    # The rest of the word is written in the next line\n",
    "    # Eg: This is a sample text this word here GeeksF-\n",
    "    # orGeeks is half on first line, remaining on next.\n",
    "    # To remove this, we replace every '-\\n' to ''.\n",
    "    text = text.replace('-\\n', '')    \n",
    "  \n",
    "    # Finally, write the processed text to the file.\n",
    "    f.write(text)\n",
    "  \n",
    "# Close the file after writing all the text.\n",
    "f.close()"
   ]
  }
 ],
 "metadata": {
  "kernelspec": {
   "display_name": "Python 3 (ipykernel)",
   "language": "python",
   "name": "python3"
  },
  "language_info": {
   "codemirror_mode": {
    "name": "ipython",
    "version": 3
   },
   "file_extension": ".py",
   "mimetype": "text/x-python",
   "name": "python",
   "nbconvert_exporter": "python",
   "pygments_lexer": "ipython3",
   "version": "3.9.6"
  }
 },
 "nbformat": 4,
 "nbformat_minor": 5
}
